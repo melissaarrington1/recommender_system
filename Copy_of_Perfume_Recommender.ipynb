{
  "cells": [
    {
      "cell_type": "markdown",
      "metadata": {
        "id": "view-in-github",
        "colab_type": "text"
      },
      "source": [
        "<a href=\"https://colab.research.google.com/github/melissaarrington1/recommender_system/blob/main/Copy_of_Perfume_Recommender.ipynb\" target=\"_parent\"><img src=\"https://colab.research.google.com/assets/colab-badge.svg\" alt=\"Open In Colab\"/></a>"
      ]
    },
    {
      "cell_type": "markdown",
      "id": "e46ccbc9-cd6f-4249-9a47-4c21eb351977",
      "metadata": {
        "id": "e46ccbc9-cd6f-4249-9a47-4c21eb351977"
      },
      "source": [
        "# ** Perfume Recommender **\n",
        "\n",
        "This is a machine learning application that recommends perfume based on a preference of notes, age, or brand."
      ]
    },
    {
      "cell_type": "code",
      "execution_count": 1,
      "id": "58643897-4897-4565-bb27-0fd0f4bde725",
      "metadata": {
        "id": "58643897-4897-4565-bb27-0fd0f4bde725"
      },
      "outputs": [],
      "source": [
        "import pandas as pd\n",
        "import matplotlib.pyplot as plt\n",
        "import numpy as np\n",
        "import seaborn as sns\n",
        "import ipywidgets as widgets\n",
        "from sklearn.neighbors import NearestNeighbors"
      ]
    },
    {
      "cell_type": "markdown",
      "id": "4e11e4b0-eef9-496c-942a-b441a37849c1",
      "metadata": {
        "id": "4e11e4b0-eef9-496c-942a-b441a37849c1"
      },
      "source": [
        "## Showing the First 5 of the Perfume Dataset"
      ]
    },
    {
      "cell_type": "code",
      "source": [
        "from google.colab import drive\n",
        "drive.mount('/content/drive')"
      ],
      "metadata": {
        "colab": {
          "base_uri": "https://localhost:8080/"
        },
        "id": "ryIA6HePg9Y3",
        "outputId": "fc351f86-15c7-445a-c9b7-69a1ed21efda"
      },
      "id": "ryIA6HePg9Y3",
      "execution_count": 4,
      "outputs": [
        {
          "output_type": "stream",
          "name": "stdout",
          "text": [
            "Drive already mounted at /content/drive; to attempt to forcibly remount, call drive.mount(\"/content/drive\", force_remount=True).\n"
          ]
        }
      ]
    },
    {
      "cell_type": "code",
      "execution_count": 5,
      "id": "2a2068b8-5435-4eff-9be3-c2a7144f8b2e",
      "metadata": {
        "colab": {
          "base_uri": "https://localhost:8080/",
          "height": 276
        },
        "id": "2a2068b8-5435-4eff-9be3-c2a7144f8b2e",
        "outputId": "c706d563-eed0-40fa-bb8d-9958fb870a49"
      },
      "outputs": [
        {
          "output_type": "execute_result",
          "data": {
            "text/plain": [
              "                                  Name          Brand  \\\n",
              "0                 Tihota Eau de Parfum         Indult   \n",
              "1                          Sola Parfum         Di Ser   \n",
              "2                       Kagiroi Parfum         Di Ser   \n",
              "3         Velvet Fantasy Eau de Parfum        Montale   \n",
              "4  A Blvd. Called Sunset Eau de Parfum  A Lab on Fire   \n",
              "\n",
              "                                         Description           Notes  \\\n",
              "0   Rapa Nui for sugar, Tihota is, quite simply, ...  Aromatic notes   \n",
              "1   A tribute to the expanse of space extending f...    Fruity notes   \n",
              "2   An aromatic ode to the ancient beauty of Japa...     Green notes   \n",
              "3   Velvet Fantasy is a solar fragrance where cit...           Lemon   \n",
              "4   There's no way A Lab On Fire could relocate t...    Marine notes   \n",
              "\n",
              "                                           Image URL Country  Age Range  \n",
              "0  https://static.luckyscent.com/images/products/...  France         45  \n",
              "1  https://static.luckyscent.com/images/products/...  France         32  \n",
              "2  https://static.luckyscent.com/images/products/...  France         34  \n",
              "3  https://static.luckyscent.com/images/products/...  France         34  \n",
              "4  https://static.luckyscent.com/images/products/...  France         54  "
            ],
            "text/html": [
              "\n",
              "  <div id=\"df-e5431c30-d977-49cc-b47a-6e17ac70261e\" class=\"colab-df-container\">\n",
              "    <div>\n",
              "<style scoped>\n",
              "    .dataframe tbody tr th:only-of-type {\n",
              "        vertical-align: middle;\n",
              "    }\n",
              "\n",
              "    .dataframe tbody tr th {\n",
              "        vertical-align: top;\n",
              "    }\n",
              "\n",
              "    .dataframe thead th {\n",
              "        text-align: right;\n",
              "    }\n",
              "</style>\n",
              "<table border=\"1\" class=\"dataframe\">\n",
              "  <thead>\n",
              "    <tr style=\"text-align: right;\">\n",
              "      <th></th>\n",
              "      <th>Name</th>\n",
              "      <th>Brand</th>\n",
              "      <th>Description</th>\n",
              "      <th>Notes</th>\n",
              "      <th>Image URL</th>\n",
              "      <th>Country</th>\n",
              "      <th>Age Range</th>\n",
              "    </tr>\n",
              "  </thead>\n",
              "  <tbody>\n",
              "    <tr>\n",
              "      <th>0</th>\n",
              "      <td>Tihota Eau de Parfum</td>\n",
              "      <td>Indult</td>\n",
              "      <td>Rapa Nui for sugar, Tihota is, quite simply, ...</td>\n",
              "      <td>Aromatic notes</td>\n",
              "      <td>https://static.luckyscent.com/images/products/...</td>\n",
              "      <td>France</td>\n",
              "      <td>45</td>\n",
              "    </tr>\n",
              "    <tr>\n",
              "      <th>1</th>\n",
              "      <td>Sola Parfum</td>\n",
              "      <td>Di Ser</td>\n",
              "      <td>A tribute to the expanse of space extending f...</td>\n",
              "      <td>Fruity notes</td>\n",
              "      <td>https://static.luckyscent.com/images/products/...</td>\n",
              "      <td>France</td>\n",
              "      <td>32</td>\n",
              "    </tr>\n",
              "    <tr>\n",
              "      <th>2</th>\n",
              "      <td>Kagiroi Parfum</td>\n",
              "      <td>Di Ser</td>\n",
              "      <td>An aromatic ode to the ancient beauty of Japa...</td>\n",
              "      <td>Green notes</td>\n",
              "      <td>https://static.luckyscent.com/images/products/...</td>\n",
              "      <td>France</td>\n",
              "      <td>34</td>\n",
              "    </tr>\n",
              "    <tr>\n",
              "      <th>3</th>\n",
              "      <td>Velvet Fantasy Eau de Parfum</td>\n",
              "      <td>Montale</td>\n",
              "      <td>Velvet Fantasy is a solar fragrance where cit...</td>\n",
              "      <td>Lemon</td>\n",
              "      <td>https://static.luckyscent.com/images/products/...</td>\n",
              "      <td>France</td>\n",
              "      <td>34</td>\n",
              "    </tr>\n",
              "    <tr>\n",
              "      <th>4</th>\n",
              "      <td>A Blvd. Called Sunset Eau de Parfum</td>\n",
              "      <td>A Lab on Fire</td>\n",
              "      <td>There's no way A Lab On Fire could relocate t...</td>\n",
              "      <td>Marine notes</td>\n",
              "      <td>https://static.luckyscent.com/images/products/...</td>\n",
              "      <td>France</td>\n",
              "      <td>54</td>\n",
              "    </tr>\n",
              "  </tbody>\n",
              "</table>\n",
              "</div>\n",
              "    <div class=\"colab-df-buttons\">\n",
              "\n",
              "  <div class=\"colab-df-container\">\n",
              "    <button class=\"colab-df-convert\" onclick=\"convertToInteractive('df-e5431c30-d977-49cc-b47a-6e17ac70261e')\"\n",
              "            title=\"Convert this dataframe to an interactive table.\"\n",
              "            style=\"display:none;\">\n",
              "\n",
              "  <svg xmlns=\"http://www.w3.org/2000/svg\" height=\"24px\" viewBox=\"0 -960 960 960\">\n",
              "    <path d=\"M120-120v-720h720v720H120Zm60-500h600v-160H180v160Zm220 220h160v-160H400v160Zm0 220h160v-160H400v160ZM180-400h160v-160H180v160Zm440 0h160v-160H620v160ZM180-180h160v-160H180v160Zm440 0h160v-160H620v160Z\"/>\n",
              "  </svg>\n",
              "    </button>\n",
              "\n",
              "  <style>\n",
              "    .colab-df-container {\n",
              "      display:flex;\n",
              "      gap: 12px;\n",
              "    }\n",
              "\n",
              "    .colab-df-convert {\n",
              "      background-color: #E8F0FE;\n",
              "      border: none;\n",
              "      border-radius: 50%;\n",
              "      cursor: pointer;\n",
              "      display: none;\n",
              "      fill: #1967D2;\n",
              "      height: 32px;\n",
              "      padding: 0 0 0 0;\n",
              "      width: 32px;\n",
              "    }\n",
              "\n",
              "    .colab-df-convert:hover {\n",
              "      background-color: #E2EBFA;\n",
              "      box-shadow: 0px 1px 2px rgba(60, 64, 67, 0.3), 0px 1px 3px 1px rgba(60, 64, 67, 0.15);\n",
              "      fill: #174EA6;\n",
              "    }\n",
              "\n",
              "    .colab-df-buttons div {\n",
              "      margin-bottom: 4px;\n",
              "    }\n",
              "\n",
              "    [theme=dark] .colab-df-convert {\n",
              "      background-color: #3B4455;\n",
              "      fill: #D2E3FC;\n",
              "    }\n",
              "\n",
              "    [theme=dark] .colab-df-convert:hover {\n",
              "      background-color: #434B5C;\n",
              "      box-shadow: 0px 1px 3px 1px rgba(0, 0, 0, 0.15);\n",
              "      filter: drop-shadow(0px 1px 2px rgba(0, 0, 0, 0.3));\n",
              "      fill: #FFFFFF;\n",
              "    }\n",
              "  </style>\n",
              "\n",
              "    <script>\n",
              "      const buttonEl =\n",
              "        document.querySelector('#df-e5431c30-d977-49cc-b47a-6e17ac70261e button.colab-df-convert');\n",
              "      buttonEl.style.display =\n",
              "        google.colab.kernel.accessAllowed ? 'block' : 'none';\n",
              "\n",
              "      async function convertToInteractive(key) {\n",
              "        const element = document.querySelector('#df-e5431c30-d977-49cc-b47a-6e17ac70261e');\n",
              "        const dataTable =\n",
              "          await google.colab.kernel.invokeFunction('convertToInteractive',\n",
              "                                                    [key], {});\n",
              "        if (!dataTable) return;\n",
              "\n",
              "        const docLinkHtml = 'Like what you see? Visit the ' +\n",
              "          '<a target=\"_blank\" href=https://colab.research.google.com/notebooks/data_table.ipynb>data table notebook</a>'\n",
              "          + ' to learn more about interactive tables.';\n",
              "        element.innerHTML = '';\n",
              "        dataTable['output_type'] = 'display_data';\n",
              "        await google.colab.output.renderOutput(dataTable, element);\n",
              "        const docLink = document.createElement('div');\n",
              "        docLink.innerHTML = docLinkHtml;\n",
              "        element.appendChild(docLink);\n",
              "      }\n",
              "    </script>\n",
              "  </div>\n",
              "\n",
              "\n",
              "<div id=\"df-80828b4f-bd7a-44be-b314-c35957a17279\">\n",
              "  <button class=\"colab-df-quickchart\" onclick=\"quickchart('df-80828b4f-bd7a-44be-b314-c35957a17279')\"\n",
              "            title=\"Suggest charts\"\n",
              "            style=\"display:none;\">\n",
              "\n",
              "<svg xmlns=\"http://www.w3.org/2000/svg\" height=\"24px\"viewBox=\"0 0 24 24\"\n",
              "     width=\"24px\">\n",
              "    <g>\n",
              "        <path d=\"M19 3H5c-1.1 0-2 .9-2 2v14c0 1.1.9 2 2 2h14c1.1 0 2-.9 2-2V5c0-1.1-.9-2-2-2zM9 17H7v-7h2v7zm4 0h-2V7h2v10zm4 0h-2v-4h2v4z\"/>\n",
              "    </g>\n",
              "</svg>\n",
              "  </button>\n",
              "\n",
              "<style>\n",
              "  .colab-df-quickchart {\n",
              "      --bg-color: #E8F0FE;\n",
              "      --fill-color: #1967D2;\n",
              "      --hover-bg-color: #E2EBFA;\n",
              "      --hover-fill-color: #174EA6;\n",
              "      --disabled-fill-color: #AAA;\n",
              "      --disabled-bg-color: #DDD;\n",
              "  }\n",
              "\n",
              "  [theme=dark] .colab-df-quickchart {\n",
              "      --bg-color: #3B4455;\n",
              "      --fill-color: #D2E3FC;\n",
              "      --hover-bg-color: #434B5C;\n",
              "      --hover-fill-color: #FFFFFF;\n",
              "      --disabled-bg-color: #3B4455;\n",
              "      --disabled-fill-color: #666;\n",
              "  }\n",
              "\n",
              "  .colab-df-quickchart {\n",
              "    background-color: var(--bg-color);\n",
              "    border: none;\n",
              "    border-radius: 50%;\n",
              "    cursor: pointer;\n",
              "    display: none;\n",
              "    fill: var(--fill-color);\n",
              "    height: 32px;\n",
              "    padding: 0;\n",
              "    width: 32px;\n",
              "  }\n",
              "\n",
              "  .colab-df-quickchart:hover {\n",
              "    background-color: var(--hover-bg-color);\n",
              "    box-shadow: 0 1px 2px rgba(60, 64, 67, 0.3), 0 1px 3px 1px rgba(60, 64, 67, 0.15);\n",
              "    fill: var(--button-hover-fill-color);\n",
              "  }\n",
              "\n",
              "  .colab-df-quickchart-complete:disabled,\n",
              "  .colab-df-quickchart-complete:disabled:hover {\n",
              "    background-color: var(--disabled-bg-color);\n",
              "    fill: var(--disabled-fill-color);\n",
              "    box-shadow: none;\n",
              "  }\n",
              "\n",
              "  .colab-df-spinner {\n",
              "    border: 2px solid var(--fill-color);\n",
              "    border-color: transparent;\n",
              "    border-bottom-color: var(--fill-color);\n",
              "    animation:\n",
              "      spin 1s steps(1) infinite;\n",
              "  }\n",
              "\n",
              "  @keyframes spin {\n",
              "    0% {\n",
              "      border-color: transparent;\n",
              "      border-bottom-color: var(--fill-color);\n",
              "      border-left-color: var(--fill-color);\n",
              "    }\n",
              "    20% {\n",
              "      border-color: transparent;\n",
              "      border-left-color: var(--fill-color);\n",
              "      border-top-color: var(--fill-color);\n",
              "    }\n",
              "    30% {\n",
              "      border-color: transparent;\n",
              "      border-left-color: var(--fill-color);\n",
              "      border-top-color: var(--fill-color);\n",
              "      border-right-color: var(--fill-color);\n",
              "    }\n",
              "    40% {\n",
              "      border-color: transparent;\n",
              "      border-right-color: var(--fill-color);\n",
              "      border-top-color: var(--fill-color);\n",
              "    }\n",
              "    60% {\n",
              "      border-color: transparent;\n",
              "      border-right-color: var(--fill-color);\n",
              "    }\n",
              "    80% {\n",
              "      border-color: transparent;\n",
              "      border-right-color: var(--fill-color);\n",
              "      border-bottom-color: var(--fill-color);\n",
              "    }\n",
              "    90% {\n",
              "      border-color: transparent;\n",
              "      border-bottom-color: var(--fill-color);\n",
              "    }\n",
              "  }\n",
              "</style>\n",
              "\n",
              "  <script>\n",
              "    async function quickchart(key) {\n",
              "      const quickchartButtonEl =\n",
              "        document.querySelector('#' + key + ' button');\n",
              "      quickchartButtonEl.disabled = true;  // To prevent multiple clicks.\n",
              "      quickchartButtonEl.classList.add('colab-df-spinner');\n",
              "      try {\n",
              "        const charts = await google.colab.kernel.invokeFunction(\n",
              "            'suggestCharts', [key], {});\n",
              "      } catch (error) {\n",
              "        console.error('Error during call to suggestCharts:', error);\n",
              "      }\n",
              "      quickchartButtonEl.classList.remove('colab-df-spinner');\n",
              "      quickchartButtonEl.classList.add('colab-df-quickchart-complete');\n",
              "    }\n",
              "    (() => {\n",
              "      let quickchartButtonEl =\n",
              "        document.querySelector('#df-80828b4f-bd7a-44be-b314-c35957a17279 button');\n",
              "      quickchartButtonEl.style.display =\n",
              "        google.colab.kernel.accessAllowed ? 'block' : 'none';\n",
              "    })();\n",
              "  </script>\n",
              "</div>\n",
              "\n",
              "    </div>\n",
              "  </div>\n"
            ],
            "application/vnd.google.colaboratory.intrinsic+json": {
              "type": "dataframe",
              "variable_name": "df",
              "summary": "{\n  \"name\": \"df\",\n  \"rows\": 2191,\n  \"fields\": [\n    {\n      \"column\": \"Name\",\n      \"properties\": {\n        \"dtype\": \"string\",\n        \"num_unique_values\": 2184,\n        \"samples\": [\n          \"Patchouli Eau de Toilette\",\n          \"Papelato Eau de Parfum\",\n          \"Creation-E Parfum Cologne\"\n        ],\n        \"semantic_type\": \"\",\n        \"description\": \"\"\n      }\n    },\n    {\n      \"column\": \"Brand\",\n      \"properties\": {\n        \"dtype\": \"category\",\n        \"num_unique_values\": 249,\n        \"samples\": [\n          \"Parfum Satori\",\n          \"Zoologist\",\n          \"Tauer Perfumes\"\n        ],\n        \"semantic_type\": \"\",\n        \"description\": \"\"\n      }\n    },\n    {\n      \"column\": \"Description\",\n      \"properties\": {\n        \"dtype\": \"string\",\n        \"num_unique_values\": 2167,\n        \"samples\": [\n          \" BYREDO presents a hair perfume collection that invites you to care for and delicately scent the hair in one sensuous beautifying gesture. Enjoy the uplifting power of long lasting scents as they subtly diffuse throughout the day, amplified by the natural movement of the hair. Each hair perfume combines one of BYREDO's signature scents with a unique silicone and polymer formula to create a light, invisible veil designed to leave the hair nourished and luminous whilst divinely scented.\\rBal d'Afrique is inspired by Paris in the late 1920's, when the city was infatuated with an idiosyncratic and fantastical vision of African culture, music and dance. A vivacious blast of sunny citrus with just a pinch of spicy marigold makes a suitably dramatic entrance, leading to a brew of green bucchu, sheer and aqueous cyclamen and sweet violet. At center stage is the ever-bewitching vetiver, earthy and spicy, and smoothed with sweet amber and warm musk until it becomes velvety and almost edible. An extra soup\\u221a\\u00dfon of growl is provided by cedar wood, but the overall effect is less voracious man-eating tiger and more of a mischievous tiger cub \\u00f1 sweet and adorable, but it still has claws. Bal d'Afrique is warm and embracing with a purring, cozy quality that has us at its mercy. Be careful, this one is addictive.\",\n          \" As with all great stories, Tango immediately sets the stage: bergamot, black pepper and cardamom whisk us away to a sultry summer night in the Canary Islands, a party already in full swing. The music swells louder as you tip back another glass of local honey rum, heady, sweet and inebriating. You turn your head to catch the warm evening breeze, which carries the scent of night blooming jasmine mingled with the salty sweat of the revelers, and you catch the eye of a beautiful stranger. Another deep gulp of the rum, cool vanilla standing out against the rich, warm amber. You stand and offer your hand- you're not always this brave, but tonight, the rum and the rhythm will not be denied. And just as she smiles and rises to meet you, the music reaches crescendo, and the air seems to get even hotter. \\rTango is a deep amber fragrance, warm and sensual, spicy and indulgent, and more than a little bit wild. The perfect scent for your next island-hopping nighttime adventure- or to add a little heat to any night at all.\",\n          \" Rome- the eternal city, a bustling modern metropolis with thousands of years of history beating in its heart and etched into its streets. Zefiro pays homage to Rome's baroque alchemy, a fragrance with both the instant appeal and the grand mystery of such a prestigious capital, suggestive and elusive, vibrant and unknowable. \\rZefiro opens with the lavish giddiness of il dolce far niente, a long weekend of fine wine and rich fruits. Cardamom and cinnamon evoke both mouthwatering cuisine and the well-spiced bustle of Rome's never-ending crowds, while iris and carnation represent beauty in all forms, from the perpetual spring season to the fashionable beauties in every square and nightclub. But Rome is also a city of history, and as Zefiro dries down, a rich amber and smoky incense remind us that around every corner is another masterpiece-stuffed museum, extravagant palazzo, or Imperial stronghold. And yet, a sweet, pervasive honey holds the earlier notes in place as well- after all, Rome isn't a city that changes, but a city where ancient and modern take root together in a hypnotic whirl.\"\n        ],\n        \"semantic_type\": \"\",\n        \"description\": \"\"\n      }\n    },\n    {\n      \"column\": \"Notes\",\n      \"properties\": {\n        \"dtype\": \"category\",\n        \"num_unique_values\": 417,\n        \"samples\": [\n          \"Tolu balm\",\n          \"Cuban tobacco\",\n          \"Linden blossom\"\n        ],\n        \"semantic_type\": \"\",\n        \"description\": \"\"\n      }\n    },\n    {\n      \"column\": \"Image URL\",\n      \"properties\": {\n        \"dtype\": \"string\",\n        \"num_unique_values\": 2191,\n        \"samples\": [\n          \"https://static.luckyscent.com/images/products/757041.jpg?width=400&404=product.png\",\n          \"https://static.luckyscent.com/images/products/825009.jpg?width=400&404=product.png\",\n          \"https://static.luckyscent.com/images/products/21904.jpg?width=400&404=product.png\"\n        ],\n        \"semantic_type\": \"\",\n        \"description\": \"\"\n      }\n    },\n    {\n      \"column\": \"Country\",\n      \"properties\": {\n        \"dtype\": \"category\",\n        \"num_unique_values\": 12,\n        \"samples\": [\n          \"Switzerland\",\n          \"Australia\",\n          \"France\"\n        ],\n        \"semantic_type\": \"\",\n        \"description\": \"\"\n      }\n    },\n    {\n      \"column\": \"Age Range\",\n      \"properties\": {\n        \"dtype\": \"number\",\n        \"std\": 15,\n        \"min\": 18,\n        \"max\": 87,\n        \"num_unique_values\": 51,\n        \"samples\": [\n          61,\n          56,\n          77\n        ],\n        \"semantic_type\": \"\",\n        \"description\": \"\"\n      }\n    }\n  ]\n}"
            }
          },
          "metadata": {},
          "execution_count": 5
        }
      ],
      "source": [
        "df = pd.read_csv('/content/drive/MyDrive/Colab Notebooks/final_perfume_data.csv')\n",
        "df.head()"
      ]
    },
    {
      "cell_type": "code",
      "execution_count": null,
      "id": "651de0f8-95cf-420c-b05a-3ad2dd576949",
      "metadata": {
        "id": "651de0f8-95cf-420c-b05a-3ad2dd576949"
      },
      "outputs": [],
      "source": [
        "df.columns"
      ]
    },
    {
      "cell_type": "code",
      "execution_count": null,
      "id": "f6cc4d9a-9fe5-420a-9a51-57762ac27144",
      "metadata": {
        "id": "f6cc4d9a-9fe5-420a-9a51-57762ac27144"
      },
      "outputs": [],
      "source": [
        "df.info()"
      ]
    },
    {
      "cell_type": "markdown",
      "id": "3d4cb476-904d-42aa-9660-733b4a70424d",
      "metadata": {
        "id": "3d4cb476-904d-42aa-9660-733b4a70424d"
      },
      "source": [
        "## Checking for duplicate perfumes, as we will remove any duplicates:"
      ]
    },
    {
      "cell_type": "code",
      "execution_count": null,
      "id": "d6a6dc05-c416-4f8e-9923-82607fc2b368",
      "metadata": {
        "id": "d6a6dc05-c416-4f8e-9923-82607fc2b368"
      },
      "outputs": [],
      "source": [
        "df.duplicated(subset='Name').sum()"
      ]
    },
    {
      "cell_type": "code",
      "execution_count": null,
      "id": "ae59e88c-45c8-4b13-91b5-e32cb9e2f611",
      "metadata": {
        "id": "ae59e88c-45c8-4b13-91b5-e32cb9e2f611"
      },
      "outputs": [],
      "source": [
        "df.describe()"
      ]
    },
    {
      "cell_type": "markdown",
      "id": "afcfc9d1-fa56-48b6-ac14-fb3fe9f957d1",
      "metadata": {
        "id": "afcfc9d1-fa56-48b6-ac14-fb3fe9f957d1"
      },
      "source": [
        "## Visualizing Data"
      ]
    },
    {
      "cell_type": "code",
      "execution_count": null,
      "id": "8ed3c340-7f7d-40b3-82e7-3b7381a60b40",
      "metadata": {
        "id": "8ed3c340-7f7d-40b3-82e7-3b7381a60b40"
      },
      "outputs": [],
      "source": [
        "plt.figure(figsize=(15,6))\n",
        "sns.histplot(data=df, x=\"Country\")\n",
        "plt.title(\"Number of Perfumes Per Country\");\n",
        "\n"
      ]
    },
    {
      "cell_type": "code",
      "execution_count": null,
      "id": "ba20a026-8f96-4933-9a05-3da0417ea5c7",
      "metadata": {
        "id": "ba20a026-8f96-4933-9a05-3da0417ea5c7"
      },
      "outputs": [],
      "source": [
        "sns.set(style='whitegrid')\n",
        "fmri = sns.load_dataset(\"fmri\")\n",
        "\n",
        "sns.scatterplot(x=\"Age Range\",\n",
        "                    y=\"Country\",\n",
        "                    data=df)"
      ]
    },
    {
      "cell_type": "markdown",
      "id": "b41b4637-2627-45e5-94d1-ed044168102d",
      "metadata": {
        "id": "b41b4637-2627-45e5-94d1-ed044168102d"
      },
      "source": [
        "## Another Plot of Age Range\n",
        "### Displaying outliers of age 87"
      ]
    },
    {
      "cell_type": "code",
      "execution_count": null,
      "id": "dec18fe9-06a0-4115-ab5a-55e666d9e266",
      "metadata": {
        "id": "dec18fe9-06a0-4115-ab5a-55e666d9e266"
      },
      "outputs": [],
      "source": [
        "sns.displot(df['Age Range'])"
      ]
    },
    {
      "cell_type": "markdown",
      "id": "b09babe9-a132-464f-b612-6a42e061f41e",
      "metadata": {
        "id": "b09babe9-a132-464f-b612-6a42e061f41e"
      },
      "source": [
        "## These are the most popular Notes in our dataset"
      ]
    },
    {
      "cell_type": "code",
      "execution_count": null,
      "id": "69db3ba7-aad3-4c60-907c-9b5b5977bd29",
      "metadata": {
        "id": "69db3ba7-aad3-4c60-907c-9b5b5977bd29"
      },
      "outputs": [],
      "source": [
        "df['Notes'].value_counts().head()"
      ]
    },
    {
      "cell_type": "code",
      "execution_count": null,
      "id": "8a30804c-9c9f-4f76-be31-4f067b72a25c",
      "metadata": {
        "id": "8a30804c-9c9f-4f76-be31-4f067b72a25c"
      },
      "outputs": [],
      "source": [
        "df['Country'].value_counts()"
      ]
    },
    {
      "cell_type": "markdown",
      "id": "72456343-3b93-4540-82d9-cf59d5c97bdf",
      "metadata": {
        "id": "72456343-3b93-4540-82d9-cf59d5c97bdf"
      },
      "source": [
        "## Setting Up for Training Machine Learning Model\n",
        "### Using Cosine Similarity"
      ]
    },
    {
      "cell_type": "code",
      "execution_count": null,
      "id": "ec81b22c-ed0c-4cc5-8423-b93cf9158a28",
      "metadata": {
        "id": "ec81b22c-ed0c-4cc5-8423-b93cf9158a28"
      },
      "outputs": [],
      "source": [
        "from sklearn.model_selection import train_test_split\n",
        "from sklearn import preprocessing\n",
        "\n",
        "#turn categories into numbers\n",
        "from sklearn.preprocessing import OneHotEncoder\n",
        "from sklearn.compose import ColumnTransformer\n",
        "\n",
        "from sklearn.ensemble import RandomForestRegressor\n",
        "from sklearn.metrics.pairwise import cosine_similarity\n",
        "from sklearn.ensemble import RandomForestClassifier\n",
        "model = RandomForestClassifier()"
      ]
    },
    {
      "cell_type": "code",
      "execution_count": null,
      "id": "08612840-a0fa-4d95-ad18-0791a47ca2ab",
      "metadata": {
        "id": "08612840-a0fa-4d95-ad18-0791a47ca2ab"
      },
      "outputs": [],
      "source": [
        "#separate the independent and dependent variables\n",
        "\n",
        "#independent, dropping the image_url\n",
        "X = df.drop('Image URL', axis=1)\n",
        "\n",
        "#dependent\n",
        "y = np.array(df['Name']).reshape(-1,1)\n",
        "\n",
        "\n",
        "\n",
        "categorical_features = [\"Country\", \"Notes\", \"Name\", \"Brand\", \"Description\"]\n",
        "one_hot = OneHotEncoder(sparse_output=False)\n",
        "transformer = ColumnTransformer([(\"one_hot\",\n",
        "                                  one_hot,\n",
        "                                  categorical_features)],\n",
        "                                remainder=\"passthrough\")\n",
        "\n",
        "transformed_X = transformer.fit_transform(X)\n",
        "transformed_X\n"
      ]
    },
    {
      "cell_type": "code",
      "execution_count": null,
      "id": "833bad49-ebbe-4317-a36a-c2edf48c47de",
      "metadata": {
        "id": "833bad49-ebbe-4317-a36a-c2edf48c47de"
      },
      "outputs": [],
      "source": [
        "X"
      ]
    },
    {
      "cell_type": "code",
      "execution_count": null,
      "id": "00b70172-57e8-40f0-b4ea-01a5be48d312",
      "metadata": {
        "id": "00b70172-57e8-40f0-b4ea-01a5be48d312"
      },
      "outputs": [],
      "source": [
        "pd.DataFrame(transformed_X).head()"
      ]
    },
    {
      "cell_type": "markdown",
      "id": "b08afeec-7368-4423-a128-62c3adf5ad8d",
      "metadata": {
        "id": "b08afeec-7368-4423-a128-62c3adf5ad8d"
      },
      "source": [
        "## Perform the similarity calculation using Cosine Similarity"
      ]
    },
    {
      "cell_type": "code",
      "execution_count": null,
      "id": "76ada7fd-13c7-4f0e-a4bf-b627bc2841ce",
      "metadata": {
        "id": "76ada7fd-13c7-4f0e-a4bf-b627bc2841ce"
      },
      "outputs": [],
      "source": [
        "similarity = cosine_similarity(transformed_X)\n",
        "similarity"
      ]
    },
    {
      "cell_type": "code",
      "execution_count": null,
      "id": "1ef39ea1-e6f7-42b6-85da-fcfaf378d432",
      "metadata": {
        "id": "1ef39ea1-e6f7-42b6-85da-fcfaf378d432"
      },
      "outputs": [],
      "source": []
    },
    {
      "cell_type": "code",
      "execution_count": null,
      "id": "db7ccd3d-1881-4f7e-97f1-6e0a0c5981d9",
      "metadata": {
        "id": "db7ccd3d-1881-4f7e-97f1-6e0a0c5981d9"
      },
      "outputs": [],
      "source": [
        "pd.DataFrame(similarity).reset_index()"
      ]
    },
    {
      "cell_type": "markdown",
      "id": "a9ed47a4-062c-4595-b7e5-72199f9a24cf",
      "metadata": {
        "id": "a9ed47a4-062c-4595-b7e5-72199f9a24cf"
      },
      "source": [
        "## The Cosine Similarity model is done, let us convert the table so that we can view Column Names"
      ]
    },
    {
      "cell_type": "code",
      "execution_count": null,
      "id": "bd55e8e0-0591-402b-8742-7c420b3767ff",
      "metadata": {
        "id": "bd55e8e0-0591-402b-8742-7c420b3767ff"
      },
      "outputs": [],
      "source": [
        "name_df = pd.DataFrame(similarity, columns=df['Name'], index=df['Name']).reset_index()\n",
        "\n",
        "name_df.head()"
      ]
    },
    {
      "cell_type": "code",
      "execution_count": null,
      "id": "880e4a85-09d1-4cab-9a71-fc409997e050",
      "metadata": {
        "id": "880e4a85-09d1-4cab-9a71-fc409997e050"
      },
      "outputs": [],
      "source": [
        "note_df = pd.DataFrame(similarity, columns=df['Notes'], index=df['Notes']).reset_index()\n",
        "\n",
        "note_df.head()"
      ]
    },
    {
      "cell_type": "markdown",
      "id": "5e3fd2c7-1232-4a2d-b672-75607d979645",
      "metadata": {
        "id": "5e3fd2c7-1232-4a2d-b672-75607d979645"
      },
      "source": [
        "# Perfume Recommender\n",
        "### Searching by Perfume Name"
      ]
    },
    {
      "cell_type": "code",
      "execution_count": null,
      "id": "5f2beab6-757e-4ece-b6ad-21e3d67e0465",
      "metadata": {
        "id": "5f2beab6-757e-4ece-b6ad-21e3d67e0465"
      },
      "outputs": [],
      "source": [
        "input_perfume = 'Sola Parfum'\n",
        "recommendations = pd.DataFrame(name_df.nlargest(6,input_perfume)['Name'])\n",
        "recommendations = recommendations[recommendations['Name']!=input_perfume]\n",
        "print(\"Based on \", input_perfume, \" These are your top 5 recommended perfumes: \" )\n",
        "print(recommendations)"
      ]
    },
    {
      "cell_type": "markdown",
      "id": "0787323c-8479-4ce8-9ce2-8b5685ea156e",
      "metadata": {
        "id": "0787323c-8479-4ce8-9ce2-8b5685ea156e"
      },
      "source": [
        "### Searching for a Perfume by \"Note\""
      ]
    },
    {
      "cell_type": "code",
      "execution_count": null,
      "id": "f614ddb6-83f4-4f89-8654-c4127a6c38a5",
      "metadata": {
        "id": "f614ddb6-83f4-4f89-8654-c4127a6c38a5"
      },
      "outputs": [],
      "source": [
        "input_note = 'Apricot blossom'\n",
        "recommendations = pd.DataFrame(note_df.nlargest(6,input_note)['Notes'])\n",
        "recommendations = recommendations[recommendations['Notes']!=input_note]\n",
        "print(\"These are your top 5 recommended perfumes based on the fragrance note \", input_note,  \" that you like: \")\n",
        "print(recommendations)"
      ]
    },
    {
      "cell_type": "code",
      "execution_count": null,
      "id": "5ecf08de-7556-4696-a807-f80eeffcdecc",
      "metadata": {
        "id": "5ecf08de-7556-4696-a807-f80eeffcdecc"
      },
      "outputs": [],
      "source": [
        "#frames = [name_df, note_df]  # Or perform operations on the DFs\n",
        "#result = pd.concat(frames, axis=1)"
      ]
    },
    {
      "cell_type": "code",
      "execution_count": null,
      "id": "ce30d805-910e-4373-8b24-0f2c254009c2",
      "metadata": {
        "id": "ce30d805-910e-4373-8b24-0f2c254009c2"
      },
      "outputs": [],
      "source": [
        "#result"
      ]
    }
  ],
  "metadata": {
    "kernelspec": {
      "display_name": "Python 3 (ipykernel)",
      "language": "python",
      "name": "python3"
    },
    "language_info": {
      "codemirror_mode": {
        "name": "ipython",
        "version": 3
      },
      "file_extension": ".py",
      "mimetype": "text/x-python",
      "name": "python",
      "nbconvert_exporter": "python",
      "pygments_lexer": "ipython3",
      "version": "3.12.3"
    },
    "colab": {
      "provenance": [],
      "include_colab_link": true
    }
  },
  "nbformat": 4,
  "nbformat_minor": 5
}